{
 "cells": [
  {
   "cell_type": "code",
   "execution_count": 2,
   "id": "d2904227",
   "metadata": {},
   "outputs": [],
   "source": [
    "from tensorflow import keras\n",
    "import numpy as np\n",
    "import matplotlib.pyplot as plt"
   ]
  },
  {
   "cell_type": "markdown",
   "id": "948c2b94",
   "metadata": {},
   "source": [
    "## Identifying handwritten numbers"
   ]
  },
  {
   "cell_type": "code",
   "execution_count": 3,
   "id": "34281424",
   "metadata": {},
   "outputs": [],
   "source": [
    "# Download data and store train and test tuples\n",
    "\n",
    "(x_train, y_train), (x_test, y_test) = keras.datasets.mnist.load_data()"
   ]
  },
  {
   "cell_type": "code",
   "execution_count": 4,
   "id": "54af6309",
   "metadata": {},
   "outputs": [
    {
     "data": {
      "text/plain": [
       "(60000, 28, 28)"
      ]
     },
     "execution_count": 4,
     "metadata": {},
     "output_type": "execute_result"
    }
   ],
   "source": [
    "x_train.shape"
   ]
  },
  {
   "cell_type": "code",
   "execution_count": 5,
   "id": "10c36bde",
   "metadata": {},
   "outputs": [
    {
     "name": "stdout",
     "output_type": "stream",
     "text": [
      "(60000, 784)\n"
     ]
    }
   ],
   "source": [
    "# Reshape and rescale train and test set\n",
    "\n",
    "x_train = np.reshape(x_train, (60000, 784))\n",
    "x_test = np.reshape(x_test, (10000, 784))\n",
    "print(x_train.shape)\n",
    "x_test.shape\n",
    "\n",
    "x_train = x_train / 255\n",
    "x_test = x_test / 255"
   ]
  },
  {
   "cell_type": "code",
   "execution_count": 6,
   "id": "de64e0db",
   "metadata": {},
   "outputs": [],
   "source": [
    "# convert train and testset labels to two new variables\n",
    "\n",
    "y_train = keras.utils.to_categorical(y_train, 10)\n",
    "y_test = keras.utils.to_categorical(y_test, 10)"
   ]
  },
  {
   "cell_type": "code",
   "execution_count": 7,
   "id": "b8d95526",
   "metadata": {},
   "outputs": [],
   "source": [
    "# Create multilayer perceptron model\n",
    "\n",
    "model = keras.Sequential()\n",
    "model.add(keras.layers.Dense(256, input_shape = (784,)))\n",
    "model.add(keras.layers.Dense(10, activation = 'softmax'))"
   ]
  },
  {
   "cell_type": "code",
   "execution_count": 8,
   "id": "e0462d70",
   "metadata": {},
   "outputs": [
    {
     "name": "stdout",
     "output_type": "stream",
     "text": [
      "Model: \"sequential\"\n",
      "_________________________________________________________________\n",
      " Layer (type)                Output Shape              Param #   \n",
      "=================================================================\n",
      " dense (Dense)               (None, 256)               200960    \n",
      "                                                                 \n",
      " dense_1 (Dense)             (None, 10)                2570      \n",
      "                                                                 \n",
      "=================================================================\n",
      "Total params: 203,530\n",
      "Trainable params: 203,530\n",
      "Non-trainable params: 0\n",
      "_________________________________________________________________\n"
     ]
    }
   ],
   "source": [
    "model.summary()"
   ]
  },
  {
   "cell_type": "code",
   "execution_count": 9,
   "id": "9136924c",
   "metadata": {},
   "outputs": [],
   "source": [
    "model.compile(loss = 'categorical_crossentropy', optimizer = keras.optimizers.RMSprop(), metrics = 'accuracy')"
   ]
  },
  {
   "cell_type": "code",
   "execution_count": 10,
   "id": "de2a333b",
   "metadata": {},
   "outputs": [
    {
     "name": "stdout",
     "output_type": "stream",
     "text": [
      "Epoch 1/12\n",
      "375/375 [==============================] - 3s 6ms/step - loss: 0.4004 - accuracy: 0.8852 - val_loss: 0.2884 - val_accuracy: 0.9209\n",
      "Epoch 2/12\n",
      "375/375 [==============================] - 2s 6ms/step - loss: 0.3081 - accuracy: 0.9133 - val_loss: 0.3077 - val_accuracy: 0.9096\n",
      "Epoch 3/12\n",
      "375/375 [==============================] - 2s 6ms/step - loss: 0.2947 - accuracy: 0.9179 - val_loss: 0.3014 - val_accuracy: 0.9176\n",
      "Epoch 4/12\n",
      "375/375 [==============================] - 2s 5ms/step - loss: 0.2861 - accuracy: 0.9197 - val_loss: 0.2862 - val_accuracy: 0.9215\n",
      "Epoch 5/12\n",
      "375/375 [==============================] - 3s 7ms/step - loss: 0.2822 - accuracy: 0.9219 - val_loss: 0.2752 - val_accuracy: 0.9244\n",
      "Epoch 6/12\n",
      "375/375 [==============================] - 2s 5ms/step - loss: 0.2763 - accuracy: 0.9227 - val_loss: 0.2814 - val_accuracy: 0.9226\n",
      "Epoch 7/12\n",
      "375/375 [==============================] - 2s 5ms/step - loss: 0.2751 - accuracy: 0.9228 - val_loss: 0.2749 - val_accuracy: 0.9247\n",
      "Epoch 8/12\n",
      "375/375 [==============================] - 2s 6ms/step - loss: 0.2717 - accuracy: 0.9244 - val_loss: 0.2741 - val_accuracy: 0.9259\n",
      "Epoch 9/12\n",
      "375/375 [==============================] - 2s 6ms/step - loss: 0.2702 - accuracy: 0.9252 - val_loss: 0.2953 - val_accuracy: 0.9186\n",
      "Epoch 10/12\n",
      "375/375 [==============================] - 2s 6ms/step - loss: 0.2684 - accuracy: 0.9241 - val_loss: 0.2733 - val_accuracy: 0.9274\n",
      "Epoch 11/12\n",
      "375/375 [==============================] - 2s 5ms/step - loss: 0.2665 - accuracy: 0.9252 - val_loss: 0.2702 - val_accuracy: 0.9267\n",
      "Epoch 12/12\n",
      "375/375 [==============================] - 2s 5ms/step - loss: 0.2630 - accuracy: 0.9264 - val_loss: 0.2757 - val_accuracy: 0.9268\n"
     ]
    }
   ],
   "source": [
    "# fit model\n",
    "\n",
    "history = model.fit(x_train, y_train, batch_size = 128, epochs = 12, verbose = 1, validation_split = 0.2)"
   ]
  },
  {
   "cell_type": "code",
   "execution_count": 11,
   "id": "22c52d44",
   "metadata": {},
   "outputs": [
    {
     "data": {
      "image/png": "[encoded data removed]",
      "text/plain": [
       "<Figure size 432x288 with 1 Axes>"
      ]
     },
     "metadata": {
      "needs_background": "light"
     },
     "output_type": "display_data"
    },
    {
     "data": {
      "image/png": "[encoded data removed]",
      "text/plain": [
       "<Figure size 432x288 with 1 Axes>"
      ]
     },
     "metadata": {
      "needs_background": "light"
     },
     "output_type": "display_data"
    }
   ],
   "source": [
    "# summarize history for accuracy\n",
    "plt.plot(history.history['accuracy'])\n",
    "plt.plot(history.history['val_accuracy'])\n",
    "plt.title('model accuracy')\n",
    "plt.ylabel('accuracy')\n",
    "plt.xlabel('epoch')\n",
    "plt.legend(['train', 'val'], loc='upper left')\n",
    "plt.show()\n",
    "\n",
    "# summarize history for loss\n",
    "plt.plot(history.history['loss'])\n",
    "plt.plot(history.history['val_loss'])\n",
    "plt.title('model loss')\n",
    "plt.ylabel('loss')\n",
    "plt.xlabel('epoch')\n",
    "plt.legend(['train', 'val'], loc='upper left')\n",
    "plt.show()"
   ]
  },
  {
   "cell_type": "code",
   "execution_count": 12,
   "id": "298fd28f",
   "metadata": {},
   "outputs": [
    {
     "name": "stdout",
     "output_type": "stream",
     "text": [
      "0.2852637767791748\n",
      "0.9229000210762024\n"
     ]
    }
   ],
   "source": [
    "loss, accuracy = model.evaluate(x_test, y_test, verbose = 0)\n",
    "print(loss)\n",
    "print(accuracy)"
   ]
  },
  {
   "cell_type": "code",
   "execution_count": 13,
   "id": "bda4b5d7",
   "metadata": {},
   "outputs": [],
   "source": [
    "# Create multilayer perceptron model with relu activation function\n",
    "\n",
    "model = keras.Sequential()\n",
    "model.add(keras.layers.Dense(256, input_shape = (784,), activation = \"relu\"))\n",
    "model.add(keras.layers.Dense(10, activation = 'softmax'))"
   ]
  },
  {
   "cell_type": "code",
   "execution_count": null,
   "id": "a7b282a0",
   "metadata": {},
   "outputs": [],
   "source": [
    "model.summary()"
   ]
  },
  {
   "cell_type": "markdown",
   "id": "8018ecf0",
   "metadata": {},
   "source": [
    "## Deep convulational networks"
   ]
  },
  {
   "cell_type": "code",
   "execution_count": null,
   "id": "953dcd54",
   "metadata": {},
   "outputs": [],
   "source": []
  },
  {
   "cell_type": "code",
   "execution_count": null,
   "id": "ec971aac",
   "metadata": {},
   "outputs": [],
   "source": []
  }
 ],
 "metadata": {
  "kernelspec": {
   "display_name": "Python 3 (ipykernel)",
   "language": "python",
   "name": "python3"
  },
  "language_info": {
   "codemirror_mode": {
    "name": "ipython",
    "version": 3
   },
   "file_extension": ".py",
   "mimetype": "text/x-python",
   "name": "python",
   "nbconvert_exporter": "python",
   "pygments_lexer": "ipython3",
   "version": "3.8.8"
  }
 },
 "nbformat": 4,
 "nbformat_minor": 5
}
